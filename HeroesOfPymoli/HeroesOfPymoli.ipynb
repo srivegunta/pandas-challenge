{
 "cells": [
  {
   "cell_type": "markdown",
   "metadata": {},
   "source": [
    "### Note\n",
    "* Instructions have been included for each segment. You do not have to follow them exactly, but they are included to help you think through the steps."
   ]
  },
  {
   "cell_type": "code",
   "execution_count": null,
   "metadata": {},
   "outputs": [],
   "source": [
    "# Heroes of Pymoli Reporting\n",
    "\n",
    "# Dependencies and Setup\n",
    "import pandas as pd\n",
    "\n",
    "# Upload Purchase Data CSV File\n",
    "file_to_load = \"Resources/purchase_data.csv\"\n",
    "\n",
    "# Read Purchasing File and store into Pandas data frame\n",
    "purchase_data = pd.read_csv(file_to_load)\n",
    "\n",
    "purchase_data.head()"
   ]
  },
  {
   "cell_type": "markdown",
   "metadata": {},
   "source": [
    "## Player Count"
   ]
  },
  {
   "cell_type": "markdown",
   "metadata": {},
   "source": [
    "* Display the total number of players\n"
   ]
  },
  {
   "cell_type": "code",
   "execution_count": null,
   "metadata": {},
   "outputs": [],
   "source": [
    "# The value_counts method counts unique values in a column\n",
    "No_Players = len(purchase_data[\"SN\"].value_counts())\n",
    "\n",
    "# Place all of the data found into a summary DataFrame\n",
    "No_Players_Summary  = pd.DataFrame({\"Total Players\": [No_Players ]})\n",
    "No_Players_Summary "
   ]
  },
  {
   "cell_type": "markdown",
   "metadata": {},
   "source": [
    "## Purchasing Analysis (Total)"
   ]
  },
  {
   "cell_type": "markdown",
   "metadata": {},
   "source": [
    "* Run basic calculations to obtain number of unique items, average price, etc.\n",
    "\n",
    "\n",
    "* Create a summary data frame to hold the results\n",
    "\n",
    "\n",
    "* Optional: give the displayed data cleaner formatting\n",
    "\n",
    "\n",
    "* Display the summary data frame\n"
   ]
  },
  {
   "cell_type": "code",
   "execution_count": null,
   "metadata": {
    "scrolled": true
   },
   "outputs": [],
   "source": [
    "# Calculate the number of unique items and Purchases in the DataFrame\n",
    "No_Uniq_Items = len(purchase_data[\"Item ID\"].unique())\n",
    "Av_Price = purchase_data[\"Price\"].mean()\n",
    "No_Purchases = len(purchase_data[\"Purchase ID\"].unique())\n",
    "Tot_Revenue = purchase_data[\"Price\"].sum()\n",
    "\n",
    "# Place all of the data found into a summary DataFrame\n",
    "purchasing_analysis = pd.DataFrame({\"Number of Unique Items\": [No_Uniq_Items],\n",
    "                         \"Average Price\": [Av_Price],\n",
    "                         \"Number of Purchases\": [No_Purchases],\n",
    "                         \"Total Revenue\": [Tot_Revenue]})\n",
    "purchasing_analysis"
   ]
  },
  {
   "cell_type": "markdown",
   "metadata": {},
   "source": [
    "## Gender Demographics"
   ]
  },
  {
   "cell_type": "markdown",
   "metadata": {},
   "source": [
    "* Percentage and Count of Male Players\n",
    "\n",
    "\n",
    "* Percentage and Count of Female Players\n",
    "\n",
    "\n",
    "* Percentage and Count of Other / Non-Disclosed\n",
    "\n",
    "\n"
   ]
  },
  {
   "cell_type": "code",
   "execution_count": null,
   "metadata": {},
   "outputs": [],
   "source": [
    "# Grouping the Dataframe by Gender\n",
    "gender_group = pd.DataFrame(purchase_data[\"Gender\"].value_counts())\n",
    "#Reset the Index\n",
    "gender_group.reset_index(inplace=True)\n",
    "#Assign name for the column variables\n",
    "gender_group.columns = [\"Gender\",\"#Gender\"]\n",
    "\n",
    "# Calculate Gender%\n",
    "perc = (purchase_data[\"Gender\"].value_counts()/len(purchase_data[\"Purchase ID\"].value_counts()))*100\n",
    "# Store into a pandas Dataframe\n",
    "gender_perc = pd.DataFrame(perc)\n",
    "#Reset the Index\n",
    "gender_perc.reset_index(inplace=True)\n",
    "#Assign name for the column variables\n",
    "gender_perc.columns = [\"Gender\",\"%Gender\"]\n",
    "\n",
    "#Merge Gender and Gender% Pandas Dataframes to get final Gender Demographics summary\n",
    "Final_demo = pd.merge(gender_group,gender_perc,on = \"Gender\")\n",
    "\n",
    "#Assign Percentage formatting to the %Gender column variable and Drop the index varibles\n",
    "Final_demo.style.format({\"%Gender\": \"{0:,.2f}%\"}).hide_index()"
   ]
  },
  {
   "cell_type": "markdown",
   "metadata": {},
   "source": [
    "\n",
    "## Purchasing Analysis (Gender)"
   ]
  },
  {
   "cell_type": "markdown",
   "metadata": {},
   "source": [
    "* Run basic calculations to obtain purchase count, avg. purchase price, avg. purchase total per person etc. by gender\n",
    "\n",
    "\n",
    "\n",
    "\n",
    "* Create a summary data frame to hold the results\n",
    "\n",
    "\n",
    "* Optional: give the displayed data cleaner formatting\n",
    "\n",
    "\n",
    "* Display the summary data frame"
   ]
  },
  {
   "cell_type": "code",
   "execution_count": null,
   "metadata": {},
   "outputs": [],
   "source": [
    "# Grouping the Dataframe by Gender and get aggregate values - Count, Mean and Sum\n",
    "gender_summary = pd.DataFrame(purchase_data.groupby(\"Gender\").agg({\"Price\":[\"count\",\"mean\",\"sum\"]}))\n",
    "#Reset the Index\n",
    "gender_summary.reset_index(inplace=True)\n",
    "#Assign name for the column variables\n",
    "gender_summary.columns = [\"Gender\",\"Purchase Count\",\"Average Purchase Value\",\"Total Purchase Value\"]\n",
    "\n",
    "# Grouping the Dataframe by Gender and Get counts of Unique Players\n",
    "uniqplayer_summary = purchase_data.groupby(\"Gender\")[\"SN\"].nunique().reset_index()\n",
    "\n",
    "# Merge Gender Summary Data and Gender - Unique Players Summary Data\n",
    "purchasing_analysis = pd.merge(gender_summary,uniqplayer_summary,on = \"Gender\")\n",
    "\n",
    "# Calculate Av Total Purchase per Person with Gender - Unique Players count\n",
    "purchasing_analysis [\"Av Total Purchase per Person\"] = purchasing_analysis[\"Total Purchase Value\"]/purchasing_analysis [\"SN\"]\n",
    "\n",
    "# Drop the Unique Players count variable(SN)\n",
    "purchasing_analysis_final = purchasing_analysis .drop('SN',axis =1)\n",
    "\n",
    "#Assign Currency formatting to the Price Values column variables and Drop the index varibles\n",
    "purchasing_analysis_final.style.format({\"Average Purchase Value\": \"${:20,.2f}\", \n",
    "                             \"Total Purchase Value\": \"${:20,.2f}\", \n",
    "                             \"Av Total Purchase per Person\": \"${:20,.2f}\"}).hide_index()"
   ]
  },
  {
   "cell_type": "markdown",
   "metadata": {},
   "source": [
    "## Age Demographics"
   ]
  },
  {
   "cell_type": "markdown",
   "metadata": {},
   "source": [
    "* Establish bins for ages\n",
    "\n",
    "\n",
    "* Categorize the existing players using the age bins. Hint: use pd.cut()\n",
    "\n",
    "\n",
    "* Calculate the numbers and percentages by age group\n",
    "\n",
    "\n",
    "* Create a summary data frame to hold the results\n",
    "\n",
    "\n",
    "* Optional: round the percentage column to two decimal points\n",
    "\n",
    "\n",
    "* Display Age Demographics Table\n"
   ]
  },
  {
   "cell_type": "code",
   "execution_count": null,
   "metadata": {},
   "outputs": [],
   "source": [
    "# Create the age bins in which Data will be held\n",
    "# Bins are \"<10\", \"10-14\", \"15-19\", \"20-24\", \"25-29\", \"30-34\",\"35-39\",\"40+\"\n",
    "bins = [0,9,14,19,24,29,34,39,100]\n",
    "\n",
    "# Create the names for the age bins\n",
    "bin_names = [\"<10\",\"10-14\",\"15-19\",\"20-24\",\"25-29\",\"30-34\",\"35-39\",\"40+\"]\n",
    "\n",
    "# Assign the bins to the purchase_data dataframe\n",
    "purchase_data['age_bins']=pd.cut(purchase_data[\"Age\"],bins, labels=bin_names, include_lowest=True)\n",
    "\n",
    "# Grouping the Dataframe by Age bins and Get counts of Unique Players\n",
    "bins_summary = purchase_data.groupby(\"age_bins\")[\"SN\"].nunique().reset_index()\n",
    "\n",
    "# Calculating the percentages by the age group\n",
    "bins_summary['Percentage of Players'] = ((bins_summary['SN'] / bins_summary['SN'].sum()) * 100).map(\"{0:,.2f}%\".format)\n",
    "\n",
    "# #Assign name for the column variables\n",
    "bins_summary.columns = [\"Age Ranges\",\"Total Count\",\"Percentage of Players\"]\n",
    "\n",
    "#Drop the index varibles\n",
    "bins_summary.style.hide_index()"
   ]
  },
  {
   "cell_type": "markdown",
   "metadata": {},
   "source": [
    "## Purchasing Analysis (Age)"
   ]
  },
  {
   "cell_type": "markdown",
   "metadata": {},
   "source": [
    "* Bin the purchase_data data frame by age\n",
    "\n",
    "\n",
    "* Run basic calculations to obtain purchase count, avg. purchase price, avg. purchase total per person etc. in the table below\n",
    "\n",
    "\n",
    "* Create a summary data frame to hold the results\n",
    "\n",
    "\n",
    "* Optional: give the displayed data cleaner formatting\n",
    "\n",
    "\n",
    "* Display the summary data frame"
   ]
  },
  {
   "cell_type": "code",
   "execution_count": null,
   "metadata": {},
   "outputs": [],
   "source": [
    "# Group by the Age bins and get the aggregate values Total,Av price and Total Purchase value\n",
    "bins_summary2 = pd.DataFrame(purchase_data.groupby(\"age_bins\").agg({\"Price\":[\"count\",\"mean\",\"sum\"]}))\n",
    "\n",
    "#Reset the Index\n",
    "bins_summary2.reset_index(inplace=True)\n",
    "\n",
    "#Assign name for the column variables\n",
    "bins_summary2.columns = [\"Age Ranges\",\"Purchase Count\",\"Average Purchase Value\",\"Total Purchase Value\"]\n",
    "\n",
    "# Merge Age bins Uniq Players Data from the previous Age demographics report and Age bins Summary Data by Price\n",
    "bins_summary2_final = pd.merge(bins_summary,bins_summary2,on = \"Age Ranges\")\n",
    "\n",
    "# Calculate Av Total Purchase per Person with Age Bins - Unique Players count\n",
    "bins_summary2_final[\"Av Total Purchase per Person\"] = bins_summary2_final[\"Total Purchase Value\"]/bins_summary2_final[\"Total Count\"]\n",
    "\n",
    "# Drop the columns not required\n",
    "bins_summary2_final2 = bins_summary2_final.drop(['Total Count','Percentage of Players'],axis =1)\n",
    "\n",
    "#Assign Currency formatting to the Price Values column variables and Drop the index varibles\n",
    "bins_summary2_final2.style.format({\"Average Purchase Value\": \"${:20,.2f}\", \n",
    "                      \"Total Purchase Value\": \"${:20,.2f}\", \n",
    "                           \"Av Total Purchase per Person\": \"${:20,.2f}\"}).hide_index()"
   ]
  },
  {
   "cell_type": "markdown",
   "metadata": {},
   "source": [
    "## Top Spenders"
   ]
  },
  {
   "cell_type": "markdown",
   "metadata": {},
   "source": [
    "* Run basic calculations to obtain the results in the table below\n",
    "\n",
    "\n",
    "* Create a summary data frame to hold the results\n",
    "\n",
    "\n",
    "* Sort the total purchase value column in descending order\n",
    "\n",
    "\n",
    "* Optional: give the displayed data cleaner formatting\n",
    "\n",
    "\n",
    "* Display a preview of the summary data frame\n",
    "\n"
   ]
  },
  {
   "cell_type": "code",
   "execution_count": null,
   "metadata": {},
   "outputs": [],
   "source": [
    "# Group by the Players and get the aggregate Purchase Count,Av price and Total Purchase value\n",
    "topspender_summary = pd.DataFrame(purchase_data.groupby(\"SN\").agg({\"Price\":[\"count\",\"mean\",\"sum\"]}))\n",
    "#Reset the Index\n",
    "topspender_summary.reset_index(inplace=True)\n",
    "#Assign name for the column variables\n",
    "topspender_summary.columns = [\"SN\",\"Purchase Count\",\"Average Purchase Price\",\"Total Purchase Value\"]\n",
    "\n",
    "#Sort the Total Purchase Value variable by descending order to display the top 5 spenders \n",
    "topspender = topspender_summary.sort_values(by='Total Purchase Value', ascending=False)\n",
    "\n",
    "#Assign Currency formatting to the Price Values column variables and Drop the index varibles\n",
    "topspender.head().style.format({\"Average Purchase Price\": \"${:20,.2f}\", \n",
    "                             \"Total Purchase Value\": \"${:20,.2f}\"}).hide_index()"
   ]
  },
  {
   "cell_type": "markdown",
   "metadata": {},
   "source": [
    "## Most Popular Items"
   ]
  },
  {
   "cell_type": "markdown",
   "metadata": {},
   "source": [
    "* Retrieve the Item ID, Item Name, and Item Price columns\n",
    "\n",
    "\n",
    "* Group by Item ID and Item Name. Perform calculations to obtain purchase count, item price, and total purchase value\n",
    "\n",
    "\n",
    "* Create a summary data frame to hold the results\n",
    "\n",
    "\n",
    "* Sort the purchase count column in descending order\n",
    "\n",
    "\n",
    "* Optional: give the displayed data cleaner formatting\n",
    "\n",
    "\n",
    "* Display a preview of the summary data frame\n",
    "\n"
   ]
  },
  {
   "cell_type": "code",
   "execution_count": null,
   "metadata": {},
   "outputs": [],
   "source": [
    "# Group by multiple columns(Item ID and Item Name) and get the aggregate Purchase Count,Av price and Total Purchase value\n",
    "popularitems_summary = pd.DataFrame(purchase_data.groupby(['Item ID','Item Name']).agg({\"Price\":[\"count\",\"mean\",\"sum\"]}))\n",
    "#Reset the Index\n",
    "popularitems_summary.reset_index(inplace=True)\n",
    "#Assign name for the column variables\n",
    "popularitems_summary.columns = [\"Item ID\",\"Item Name\",\"Purchase Count\",\"Average Purchase Price\",\"Total Purchase Value\"]\n",
    "\n",
    "#Sort the Purchase Count by descending order to display the top 5 popular Items and associated ID's \n",
    "mostpopular = popularitems_summary.sort_values(by='Purchase Count', ascending=False)\n",
    "\n",
    "#Assign Currency formatting to the Price Values column variables and Drop the index varibles\n",
    "mostpopular.head().style.format({\"Average Purchase Price\": \"${:20,.2f}\", \n",
    "                             \"Total Purchase Value\": \"${:20,.2f}\"}).hide_index()"
   ]
  },
  {
   "cell_type": "markdown",
   "metadata": {},
   "source": [
    "## Most Profitable Items"
   ]
  },
  {
   "cell_type": "markdown",
   "metadata": {},
   "source": [
    "* Sort the above table by total purchase value in descending order\n",
    "\n",
    "\n",
    "* Optional: give the displayed data cleaner formatting\n",
    "\n",
    "\n",
    "* Display a preview of the data frame\n",
    "\n"
   ]
  },
  {
   "cell_type": "code",
   "execution_count": null,
   "metadata": {
    "scrolled": true
   },
   "outputs": [],
   "source": [
    "# Use the popularitems_summary dataframe to sort it by the total purchase value to get the most profitable items\n",
    "mostprofitable = popularitems_summary.sort_values(by='Total Purchase Value', ascending=False)\n",
    "\n",
    "#Assign Currency formatting to the Price Values column variables and Drop the index varibles\n",
    "mostprofitable.head().style.format({\"Average Purchase Price\": \"${:20,.2f}\", \n",
    "                             \"Total Purchase Value\": \"${:20,.2f}\"}).hide_index()"
   ]
  },
  {
   "cell_type": "code",
   "execution_count": null,
   "metadata": {},
   "outputs": [],
   "source": []
  }
 ],
 "metadata": {
  "anaconda-cloud": {},
  "kernel_info": {
   "name": "python3"
  },
  "kernelspec": {
   "display_name": "Python 3",
   "language": "python",
   "name": "python3"
  },
  "language_info": {
   "codemirror_mode": {
    "name": "ipython",
    "version": 3
   },
   "file_extension": ".py",
   "mimetype": "text/x-python",
   "name": "python",
   "nbconvert_exporter": "python",
   "pygments_lexer": "ipython3",
   "version": "3.8.5"
  },
  "latex_envs": {
   "LaTeX_envs_menu_present": true,
   "autoclose": false,
   "autocomplete": true,
   "bibliofile": "biblio.bib",
   "cite_by": "apalike",
   "current_citInitial": 1,
   "eqLabelWithNumbers": true,
   "eqNumInitial": 1,
   "hotkeys": {
    "equation": "Ctrl-E",
    "itemize": "Ctrl-I"
   },
   "labels_anchors": false,
   "latex_user_defs": false,
   "report_style_numbering": false,
   "user_envs_cfg": false
  },
  "nteract": {
   "version": "0.2.0"
  }
 },
 "nbformat": 4,
 "nbformat_minor": 2
}
